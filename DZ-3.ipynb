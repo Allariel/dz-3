{
 "cells": [
  {
   "cell_type": "code",
   "execution_count": 22,
   "id": "f5f9cf8d",
   "metadata": {},
   "outputs": [
    {
     "name": "stdout",
     "output_type": "stream",
     "text": [
      "[24, 25, 21, 35, 18, 26, 22, 41, 37, 47]\n",
      "25\n",
      "35\n",
      "26\n",
      "41\n",
      "47\n",
      "174\n"
     ]
    }
   ],
   "source": [
    "#Задайте список из нескольких чисел. Напишите программу, которая найдёт сумму элементов списка, стоящих на нечётной позиции.\n",
    "from random import sample\n",
    "\n",
    "def NotEven(lst):\n",
    "    sum = 0\n",
    "    for idx, elem in enumerate(lst): \n",
    "        if idx % 2 != 0:\n",
    "           print(elem)\n",
    "           sum+=elem\n",
    "    print(sum)\n",
    "\n",
    "\n",
    "lst = sample(range(10, 50), 10)\n",
    "print(lst)\n",
    "NotEven(lst)"
   ]
  },
  {
   "cell_type": "code",
   "execution_count": 43,
   "id": "0b5ef475",
   "metadata": {},
   "outputs": [
    {
     "name": "stdout",
     "output_type": "stream",
     "text": [
      "[10, 4, 11, 5, 6, 3]\n",
      "[30, 24, 55]\n"
     ]
    }
   ],
   "source": [
    "#Напишите программу, которая найдёт произведение пар чисел списка\n",
    "\n",
    "def Mult(lst):\n",
    "    res = []\n",
    "    if(len(lst)%2==0):\n",
    "        for x in range(0, int((len(lst))/2)):\n",
    "           res.append(lst[x]*lst[len(lst)-x-1])\n",
    "    else:\n",
    "        for x in range(0, int((len(lst))/2)+1):\n",
    "           res.append(lst[x]*lst[len(lst)-x-1])\n",
    "    print(res)\n",
    "    \n",
    "    \n",
    "\n",
    "\n",
    "\n",
    "lst = sample(range(3, 12), 6)\n",
    "print(lst)\n",
    "Mult(lst)\n",
    "\n"
   ]
  },
  {
   "cell_type": "code",
   "execution_count": 52,
   "id": "5722a327",
   "metadata": {},
   "outputs": [
    {
     "name": "stdout",
     "output_type": "stream",
     "text": [
      "7.67\n",
      "676\n",
      "878.2346\n",
      "6878.1\n",
      "6\n",
      "[7.67, 676.0, 878.2346, 6878.1, 6.0]\n",
      "0.1\n",
      "0.67\n",
      "0.57\n"
     ]
    }
   ],
   "source": [
    "#Задайте список из вещественных чисел. Напишите программу, которая найдёт разницу между максимальным и минимальным значением дробной части\n",
    "\n",
    "\n",
    "def MinMax(lst):\n",
    "    minv = 1\n",
    "    maxv = 0\n",
    "    for x in lst:\n",
    "        if (x%1==0):\n",
    "            continue\n",
    "        if(x%1<minv):\n",
    "            minv = x%1\n",
    "        if(x%1>maxv):\n",
    "            maxv = x%1\n",
    "    print(round(minv,5))\n",
    "    print(round(maxv,5))\n",
    "    print(round(maxv-minv,5))\n",
    "\n",
    "\n",
    "\n",
    "lst = []\n",
    "for x in range (0,5):\n",
    " lst.append(float(input()))\n",
    "print(lst)\n",
    "MinMax(lst)"
   ]
  },
  {
   "cell_type": "code",
   "execution_count": 58,
   "id": "5ab55153",
   "metadata": {},
   "outputs": [
    {
     "name": "stdout",
     "output_type": "stream",
     "text": [
      "3\n",
      "11\n"
     ]
    }
   ],
   "source": [
    "#Напишите программу, которая будет преобразовывать десятичное число в двоичное.\n",
    "\n",
    "def Two(num):\n",
    "   res = ''\n",
    "   while(num != 0):\n",
    "     temp = num%2\n",
    "     res= res+str(temp)\n",
    "     num  = num//2\n",
    "   res = res[::-1]\n",
    "   print(res)\n",
    "\n",
    "\n",
    "\n",
    "num = int(input())\n",
    "Two(num)"
   ]
  },
  {
   "cell_type": "code",
   "execution_count": 62,
   "id": "e4d5473b",
   "metadata": {},
   "outputs": [
    {
     "name": "stdout",
     "output_type": "stream",
     "text": [
      "8\n",
      "-8 -21\n",
      "-7 13\n",
      "-6 -8\n",
      "-5 5\n",
      "-4 -3\n",
      "-3 2\n",
      "-2 -1\n",
      "-1 1\n",
      "0 0\n",
      "1 1\n",
      "2 1\n",
      "3 2\n",
      "4 3\n",
      "5 5\n",
      "6 8\n",
      "7 13\n"
     ]
    }
   ],
   "source": [
    "def fibo(n):\n",
    "    if n>=0:\n",
    "       idx = range(n+1)\n",
    "       x = [0,1]\n",
    "       for k in idx[2:]:\n",
    "           x.append(x[k-1] + x[k-2]) \n",
    "       return x[n]\n",
    "    else:\n",
    "       n=-(n-1)\n",
    "       idx = range(n+1)\n",
    "       x = [1,0]\n",
    "       for k in idx[2:]:\n",
    "           x.append(x[k-2] - x[k-1]) \n",
    "       x.reverse()\n",
    "    return x[0]\n",
    "\n",
    "\n",
    "\n",
    "n = int(input())\n",
    "for i in range(-n,n):\n",
    "   print(i,fibo(i))\n",
    "\n",
    "\n"
   ]
  },
  {
   "cell_type": "code",
   "execution_count": null,
   "id": "06ccd96a",
   "metadata": {},
   "outputs": [],
   "source": []
  }
 ],
 "metadata": {
  "kernelspec": {
   "display_name": "Python 3 (ipykernel)",
   "language": "python",
   "name": "python3"
  },
  "language_info": {
   "codemirror_mode": {
    "name": "ipython",
    "version": 3
   },
   "file_extension": ".py",
   "mimetype": "text/x-python",
   "name": "python",
   "nbconvert_exporter": "python",
   "pygments_lexer": "ipython3",
   "version": "3.9.13"
  }
 },
 "nbformat": 4,
 "nbformat_minor": 5
}
